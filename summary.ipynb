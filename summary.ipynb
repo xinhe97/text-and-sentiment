{
 "cells": [
  {
   "cell_type": "code",
   "execution_count": 1,
   "metadata": {},
   "outputs": [],
   "source": [
    "import pandas as pd\n",
    "import numpy as np\n",
    "import os\n",
    "import matplotlib.pyplot as plt\n",
    "import datetime\n",
    "import sys\n",
    "\n",
    "if not sys.warnoptions:\n",
    "    import warnings\n",
    "    warnings.simplefilter(\"ignore\")"
   ]
  },
  {
   "cell_type": "code",
   "execution_count": 2,
   "metadata": {},
   "outputs": [],
   "source": [
    "def myQtr(date):\n",
    "    m = date.month\n",
    "    if 1<=m and m<=3:\n",
    "        ndate = datetime.date(date.year-1,12,31)\n",
    "    elif 4<=m and m<=6:\n",
    "        ndate = datetime.date(date.year,3,31)\n",
    "    elif 7<=m and m<=9:\n",
    "        ndate = datetime.date(date.year,6,30)\n",
    "    elif 10<=m and m<=12:\n",
    "        ndate = datetime.date(date.year,9,30)\n",
    "    return ndate"
   ]
  },
  {
   "cell_type": "markdown",
   "metadata": {},
   "source": [
    "# sp500"
   ]
  },
  {
   "cell_type": "code",
   "execution_count": 3,
   "metadata": {},
   "outputs": [
    {
     "name": "stdout",
     "output_type": "stream",
     "text": [
      "(414543, 18)\n"
     ]
    }
   ],
   "source": [
    "da = pd.read_excel('./xml-data/sas/call-comp_sp500.xlsx', sheet_name='call-comp_sp500')\n",
    "print(da.shape)"
   ]
  },
  {
   "cell_type": "markdown",
   "metadata": {},
   "source": [
    "## the number of non-missing observations is:"
   ]
  },
  {
   "cell_type": "code",
   "execution_count": 4,
   "metadata": {},
   "outputs": [
    {
     "name": "stdout",
     "output_type": "stream",
     "text": [
      "(30776, 18)\n"
     ]
    }
   ],
   "source": [
    "clean = da.dropna()\n",
    "print(clean.shape)"
   ]
  },
  {
   "cell_type": "markdown",
   "metadata": {},
   "source": [
    "## Time-Series Plot of the Number of Obs."
   ]
  },
  {
   "cell_type": "code",
   "execution_count": 5,
   "metadata": {
    "scrolled": false
   },
   "outputs": [],
   "source": [
    "clean['eventdate'] = pd.to_datetime(clean['xmleventdate'])"
   ]
  },
  {
   "cell_type": "code",
   "execution_count": 6,
   "metadata": {
    "scrolled": true
   },
   "outputs": [
    {
     "data": {
      "text/html": [
       "<div>\n",
       "<style scoped>\n",
       "    .dataframe tbody tr th:only-of-type {\n",
       "        vertical-align: middle;\n",
       "    }\n",
       "\n",
       "    .dataframe tbody tr th {\n",
       "        vertical-align: top;\n",
       "    }\n",
       "\n",
       "    .dataframe thead th {\n",
       "        text-align: right;\n",
       "    }\n",
       "</style>\n",
       "<table border=\"1\" class=\"dataframe\">\n",
       "  <thead>\n",
       "    <tr style=\"text-align: right;\">\n",
       "      <th></th>\n",
       "      <th>xmlid</th>\n",
       "      <th>xmleventtypeid</th>\n",
       "      <th>xmlticker</th>\n",
       "      <th>xmleventdate</th>\n",
       "      <th>xmlfakeqtr</th>\n",
       "      <th>xmlcity</th>\n",
       "      <th>xmlcompanyname</th>\n",
       "      <th>xmlymd</th>\n",
       "      <th>xmlcalldate</th>\n",
       "      <th>datadate</th>\n",
       "      <th>tic</th>\n",
       "      <th>conm</th>\n",
       "      <th>gvkey</th>\n",
       "      <th>cusip</th>\n",
       "      <th>rdq</th>\n",
       "      <th>exchg</th>\n",
       "      <th>fic</th>\n",
       "      <th>no_of_days</th>\n",
       "      <th>eventdate</th>\n",
       "      <th>qtr</th>\n",
       "    </tr>\n",
       "  </thead>\n",
       "  <tbody>\n",
       "    <tr>\n",
       "      <td>15501</td>\n",
       "      <td>708140</td>\n",
       "      <td>1</td>\n",
       "      <td>A</td>\n",
       "      <td>2003-02-21</td>\n",
       "      <td>Q1 2003</td>\n",
       "      <td>SANTA CLARA</td>\n",
       "      <td>Agilent Technologies Inc</td>\n",
       "      <td>20030221</td>\n",
       "      <td>2003-02-21</td>\n",
       "      <td>20030131.0</td>\n",
       "      <td>A</td>\n",
       "      <td>AGILENT TECHNOLOGIES INC</td>\n",
       "      <td>126554.0</td>\n",
       "      <td>00846U101</td>\n",
       "      <td>20030221.0</td>\n",
       "      <td>11.0</td>\n",
       "      <td>USA</td>\n",
       "      <td>0.0</td>\n",
       "      <td>2003-02-21</td>\n",
       "      <td>2002-12-31</td>\n",
       "    </tr>\n",
       "    <tr>\n",
       "      <td>15502</td>\n",
       "      <td>1458964</td>\n",
       "      <td>1</td>\n",
       "      <td>A</td>\n",
       "      <td>2007-02-15</td>\n",
       "      <td>Q1 2007</td>\n",
       "      <td>SANTA CLARA</td>\n",
       "      <td>Agilent Technologies Inc</td>\n",
       "      <td>20070215</td>\n",
       "      <td>2007-02-15</td>\n",
       "      <td>20070131.0</td>\n",
       "      <td>A</td>\n",
       "      <td>AGILENT TECHNOLOGIES INC</td>\n",
       "      <td>126554.0</td>\n",
       "      <td>00846U101</td>\n",
       "      <td>20070215.0</td>\n",
       "      <td>11.0</td>\n",
       "      <td>USA</td>\n",
       "      <td>0.0</td>\n",
       "      <td>2007-02-15</td>\n",
       "      <td>2006-12-31</td>\n",
       "    </tr>\n",
       "    <tr>\n",
       "      <td>15503</td>\n",
       "      <td>5702951</td>\n",
       "      <td>1</td>\n",
       "      <td>A</td>\n",
       "      <td>2015-05-18</td>\n",
       "      <td>Q2 2015</td>\n",
       "      <td>SANTA CLARA</td>\n",
       "      <td>Agilent Technologies Inc</td>\n",
       "      <td>20150518</td>\n",
       "      <td>2015-05-18</td>\n",
       "      <td>20150430.0</td>\n",
       "      <td>A</td>\n",
       "      <td>AGILENT TECHNOLOGIES INC</td>\n",
       "      <td>126554.0</td>\n",
       "      <td>00846U101</td>\n",
       "      <td>20150518.0</td>\n",
       "      <td>11.0</td>\n",
       "      <td>USA</td>\n",
       "      <td>0.0</td>\n",
       "      <td>2015-05-18</td>\n",
       "      <td>2015-03-31</td>\n",
       "    </tr>\n",
       "    <tr>\n",
       "      <td>15504</td>\n",
       "      <td>5716089</td>\n",
       "      <td>31</td>\n",
       "      <td>A</td>\n",
       "      <td>2015-05-28</td>\n",
       "      <td>Agilent</td>\n",
       "      <td>SANTA CLARA</td>\n",
       "      <td>Agilent Technologies Inc</td>\n",
       "      <td>20150528</td>\n",
       "      <td>2015-05-28</td>\n",
       "      <td>20150430.0</td>\n",
       "      <td>A</td>\n",
       "      <td>AGILENT TECHNOLOGIES INC</td>\n",
       "      <td>126554.0</td>\n",
       "      <td>00846U101</td>\n",
       "      <td>20150518.0</td>\n",
       "      <td>11.0</td>\n",
       "      <td>USA</td>\n",
       "      <td>-10.0</td>\n",
       "      <td>2015-05-28</td>\n",
       "      <td>2015-03-31</td>\n",
       "    </tr>\n",
       "    <tr>\n",
       "      <td>15505</td>\n",
       "      <td>12278874</td>\n",
       "      <td>1</td>\n",
       "      <td>A</td>\n",
       "      <td>2019-02-20</td>\n",
       "      <td>Q1 2019</td>\n",
       "      <td>SANTA CLARA</td>\n",
       "      <td>Agilent Technologies Inc</td>\n",
       "      <td>20190220</td>\n",
       "      <td>2019-02-20</td>\n",
       "      <td>20190131.0</td>\n",
       "      <td>A</td>\n",
       "      <td>AGILENT TECHNOLOGIES INC</td>\n",
       "      <td>126554.0</td>\n",
       "      <td>00846U101</td>\n",
       "      <td>20190220.0</td>\n",
       "      <td>11.0</td>\n",
       "      <td>USA</td>\n",
       "      <td>0.0</td>\n",
       "      <td>2019-02-20</td>\n",
       "      <td>2018-12-31</td>\n",
       "    </tr>\n",
       "  </tbody>\n",
       "</table>\n",
       "</div>"
      ],
      "text/plain": [
       "          xmlid  xmleventtypeid xmlticker xmleventdate xmlfakeqtr  \\\n",
       "15501    708140               1         A   2003-02-21    Q1 2003   \n",
       "15502   1458964               1         A   2007-02-15    Q1 2007   \n",
       "15503   5702951               1         A   2015-05-18    Q2 2015   \n",
       "15504   5716089              31         A   2015-05-28    Agilent   \n",
       "15505  12278874               1         A   2019-02-20    Q1 2019   \n",
       "\n",
       "           xmlcity            xmlcompanyname    xmlymd xmlcalldate  \\\n",
       "15501  SANTA CLARA  Agilent Technologies Inc  20030221  2003-02-21   \n",
       "15502  SANTA CLARA  Agilent Technologies Inc  20070215  2007-02-15   \n",
       "15503  SANTA CLARA  Agilent Technologies Inc  20150518  2015-05-18   \n",
       "15504  SANTA CLARA  Agilent Technologies Inc  20150528  2015-05-28   \n",
       "15505  SANTA CLARA  Agilent Technologies Inc  20190220  2019-02-20   \n",
       "\n",
       "         datadate tic                      conm     gvkey      cusip  \\\n",
       "15501  20030131.0   A  AGILENT TECHNOLOGIES INC  126554.0  00846U101   \n",
       "15502  20070131.0   A  AGILENT TECHNOLOGIES INC  126554.0  00846U101   \n",
       "15503  20150430.0   A  AGILENT TECHNOLOGIES INC  126554.0  00846U101   \n",
       "15504  20150430.0   A  AGILENT TECHNOLOGIES INC  126554.0  00846U101   \n",
       "15505  20190131.0   A  AGILENT TECHNOLOGIES INC  126554.0  00846U101   \n",
       "\n",
       "              rdq  exchg  fic  no_of_days  eventdate         qtr  \n",
       "15501  20030221.0   11.0  USA         0.0 2003-02-21  2002-12-31  \n",
       "15502  20070215.0   11.0  USA         0.0 2007-02-15  2006-12-31  \n",
       "15503  20150518.0   11.0  USA         0.0 2015-05-18  2015-03-31  \n",
       "15504  20150518.0   11.0  USA       -10.0 2015-05-28  2015-03-31  \n",
       "15505  20190220.0   11.0  USA         0.0 2019-02-20  2018-12-31  "
      ]
     },
     "execution_count": 6,
     "metadata": {},
     "output_type": "execute_result"
    }
   ],
   "source": [
    "clean['qtr']=[myQtr(d) for d in clean['eventdate']]\n",
    "clean.head()"
   ]
  },
  {
   "cell_type": "code",
   "execution_count": 7,
   "metadata": {
    "scrolled": true
   },
   "outputs": [
    {
     "data": {
      "image/png": "[encoded data removed]",
      "text/plain": [
       "<Figure size 720x360 with 1 Axes>"
      ]
     },
     "metadata": {
      "needs_background": "light"
     },
     "output_type": "display_data"
    }
   ],
   "source": [
    "grp_qtr = clean.groupby('qtr').count()['rdq']\n",
    "plt.figure(figsize=(10,5))\n",
    "plt.title('No. of Obs. in Each Quarter')\n",
    "# plt.hlines(500,grp_qtr.index[0],grp_qtr.index[-1])\n",
    "grp_qtr.plot()\n",
    "plt.grid(color='grey', linestyle='-', linewidth=.5)"
   ]
  },
  {
   "cell_type": "code",
   "execution_count": 8,
   "metadata": {},
   "outputs": [],
   "source": [
    "num_sp500 = grp_qtr"
   ]
  },
  {
   "cell_type": "markdown",
   "metadata": {},
   "source": [
    "## the number of unique firm is:"
   ]
  },
  {
   "cell_type": "code",
   "execution_count": 9,
   "metadata": {},
   "outputs": [
    {
     "data": {
      "text/plain": [
       "598"
      ]
     },
     "execution_count": 9,
     "metadata": {},
     "output_type": "execute_result"
    }
   ],
   "source": [
    "len(set(clean['xmlticker']))"
   ]
  },
  {
   "cell_type": "markdown",
   "metadata": {},
   "source": [
    "## first day and last day:"
   ]
  },
  {
   "cell_type": "code",
   "execution_count": 10,
   "metadata": {},
   "outputs": [
    {
     "data": {
      "text/plain": [
       "(20010110, 20190424)"
      ]
     },
     "execution_count": 10,
     "metadata": {},
     "output_type": "execute_result"
    }
   ],
   "source": [
    "(clean['xmlymd'].min(),clean['xmlymd'].max())"
   ]
  },
  {
   "cell_type": "markdown",
   "metadata": {},
   "source": [
    "## distribution across exchanges: \n",
    "\n",
    "11 NYSE, 12 AMEX, 14 NASDAQ, 19 OTC"
   ]
  },
  {
   "cell_type": "code",
   "execution_count": 11,
   "metadata": {},
   "outputs": [
    {
     "data": {
      "text/plain": [
       "exchg\n",
       "11.0    77.216012\n",
       "14.0    22.553288\n",
       "19.0     0.188459\n",
       "21.0     0.042241\n",
       "Name: xmlid, dtype: float64"
      ]
     },
     "execution_count": 11,
     "metadata": {},
     "output_type": "execute_result"
    }
   ],
   "source": [
    "grp_exchg = clean.groupby('exchg')\n",
    "grp_exchg.count()['xmlid']/sum(grp_exchg.count()['xmlid'])*100"
   ]
  },
  {
   "cell_type": "markdown",
   "metadata": {},
   "source": [
    "## distribution across Event Types\n",
    "\n",
    "**1 earnings call/pre**, 5 corporate call/pre, 7 Conference pre, 11 Shareholders Annual Meeting, 30 Guidance Call/Pre, 31 Corporate Analyst Meeting, 33 Sales/Trading Statement Call/Pre, 34 M&A Announcement"
   ]
  },
  {
   "cell_type": "code",
   "execution_count": 12,
   "metadata": {
    "scrolled": true
   },
   "outputs": [
    {
     "data": {
      "text/plain": [
       "xmleventtypeid\n",
       "1     88.926436\n",
       "5      1.049519\n",
       "7      7.164674\n",
       "8      0.230699\n",
       "11     0.991032\n",
       "21     0.003249\n",
       "22     0.003249\n",
       "24     0.006499\n",
       "30     0.022745\n",
       "31     0.874058\n",
       "33     0.389914\n",
       "34     0.337926\n",
       "Name: xmlid, dtype: float64"
      ]
     },
     "execution_count": 12,
     "metadata": {},
     "output_type": "execute_result"
    }
   ],
   "source": [
    "grp_type = clean.groupby('xmleventtypeid')\n",
    "grp_type.count()['xmlid']/sum(grp_type.count()['xmlid'])*100"
   ]
  },
  {
   "cell_type": "markdown",
   "metadata": {},
   "source": [
    "# rdq date gap"
   ]
  },
  {
   "cell_type": "code",
   "execution_count": 13,
   "metadata": {},
   "outputs": [],
   "source": [
    "gap = clean['no_of_days']"
   ]
  },
  {
   "cell_type": "code",
   "execution_count": 14,
   "metadata": {},
   "outputs": [
    {
     "data": {
      "text/plain": [
       "Text(0.5, 1.0, 'Date Gap: Rdq - Call (SP500)')"
      ]
     },
     "execution_count": 14,
     "metadata": {},
     "output_type": "execute_result"
    },
    {
     "data": {
      "image/png": "[encoded data removed]",
      "text/plain": [
       "<Figure size 720x360 with 1 Axes>"
      ]
     },
     "metadata": {
      "needs_background": "light"
     },
     "output_type": "display_data"
    }
   ],
   "source": [
    "plt.figure(figsize=(10,5))\n",
    "gap.hist(bins=range(-10,5),density=True,)\n",
    "plt.title('Date Gap: Rdq - Call (SP500)')"
   ]
  },
  {
   "cell_type": "markdown",
   "metadata": {},
   "source": [
    "# All firm"
   ]
  },
  {
   "cell_type": "code",
   "execution_count": 15,
   "metadata": {},
   "outputs": [
    {
     "name": "stdout",
     "output_type": "stream",
     "text": [
      "(414747, 18)\n"
     ]
    }
   ],
   "source": [
    "da = pd.read_excel('./xml-data/sas/call-comp.xlsx', sheet_name='call-comp')\n",
    "print(da.shape)"
   ]
  },
  {
   "cell_type": "markdown",
   "metadata": {},
   "source": [
    "## the number of non-missing observations is:"
   ]
  },
  {
   "cell_type": "code",
   "execution_count": 16,
   "metadata": {},
   "outputs": [
    {
     "name": "stdout",
     "output_type": "stream",
     "text": [
      "(150200, 18)\n"
     ]
    }
   ],
   "source": [
    "clean = da.dropna()\n",
    "print(clean.shape)"
   ]
  },
  {
   "cell_type": "markdown",
   "metadata": {},
   "source": [
    "## Time-Series Plot of the Number of Obs."
   ]
  },
  {
   "cell_type": "code",
   "execution_count": 17,
   "metadata": {
    "scrolled": false
   },
   "outputs": [],
   "source": [
    "clean['eventdate'] = pd.to_datetime(clean['xmleventdate'])"
   ]
  },
  {
   "cell_type": "code",
   "execution_count": 18,
   "metadata": {
    "scrolled": false
   },
   "outputs": [
    {
     "data": {
      "text/html": [
       "<div>\n",
       "<style scoped>\n",
       "    .dataframe tbody tr th:only-of-type {\n",
       "        vertical-align: middle;\n",
       "    }\n",
       "\n",
       "    .dataframe tbody tr th {\n",
       "        vertical-align: top;\n",
       "    }\n",
       "\n",
       "    .dataframe thead th {\n",
       "        text-align: right;\n",
       "    }\n",
       "</style>\n",
       "<table border=\"1\" class=\"dataframe\">\n",
       "  <thead>\n",
       "    <tr style=\"text-align: right;\">\n",
       "      <th></th>\n",
       "      <th>xmlid</th>\n",
       "      <th>xmleventtypeid</th>\n",
       "      <th>xmlticker</th>\n",
       "      <th>xmleventdate</th>\n",
       "      <th>xmlfakeqtr</th>\n",
       "      <th>xmlcity</th>\n",
       "      <th>xmlcompanyname</th>\n",
       "      <th>xmlymd</th>\n",
       "      <th>xmlcalldate</th>\n",
       "      <th>gvkey</th>\n",
       "      <th>datadate</th>\n",
       "      <th>tic</th>\n",
       "      <th>cusip</th>\n",
       "      <th>conm</th>\n",
       "      <th>rdq</th>\n",
       "      <th>exchg</th>\n",
       "      <th>fic</th>\n",
       "      <th>no_of_days</th>\n",
       "      <th>eventdate</th>\n",
       "      <th>qtr</th>\n",
       "    </tr>\n",
       "  </thead>\n",
       "  <tbody>\n",
       "    <tr>\n",
       "      <td>15501</td>\n",
       "      <td>5357541</td>\n",
       "      <td>1</td>\n",
       "      <td>A</td>\n",
       "      <td>2014-05-14</td>\n",
       "      <td>Q2 2014</td>\n",
       "      <td>SANTA CLARA</td>\n",
       "      <td>Agilent Technologies Inc</td>\n",
       "      <td>20140514</td>\n",
       "      <td>2014-05-14</td>\n",
       "      <td>126554.0</td>\n",
       "      <td>20140430.0</td>\n",
       "      <td>A</td>\n",
       "      <td>00846U101</td>\n",
       "      <td>AGILENT TECHNOLOGIES INC</td>\n",
       "      <td>20140514.0</td>\n",
       "      <td>11.0</td>\n",
       "      <td>USA</td>\n",
       "      <td>0.0</td>\n",
       "      <td>2014-05-14</td>\n",
       "      <td>2014-03-31</td>\n",
       "    </tr>\n",
       "    <tr>\n",
       "      <td>15502</td>\n",
       "      <td>12278874</td>\n",
       "      <td>1</td>\n",
       "      <td>A</td>\n",
       "      <td>2019-02-20</td>\n",
       "      <td>Q1 2019</td>\n",
       "      <td>SANTA CLARA</td>\n",
       "      <td>Agilent Technologies Inc</td>\n",
       "      <td>20190220</td>\n",
       "      <td>2019-02-20</td>\n",
       "      <td>126554.0</td>\n",
       "      <td>20190131.0</td>\n",
       "      <td>A</td>\n",
       "      <td>00846U101</td>\n",
       "      <td>AGILENT TECHNOLOGIES INC</td>\n",
       "      <td>20190220.0</td>\n",
       "      <td>11.0</td>\n",
       "      <td>USA</td>\n",
       "      <td>0.0</td>\n",
       "      <td>2019-02-20</td>\n",
       "      <td>2018-12-31</td>\n",
       "    </tr>\n",
       "    <tr>\n",
       "      <td>15503</td>\n",
       "      <td>12282255</td>\n",
       "      <td>7</td>\n",
       "      <td>A</td>\n",
       "      <td>2019-02-28</td>\n",
       "      <td>Agilent</td>\n",
       "      <td>New York</td>\n",
       "      <td>Agilent Technologies Inc</td>\n",
       "      <td>20190228</td>\n",
       "      <td>2019-02-28</td>\n",
       "      <td>126554.0</td>\n",
       "      <td>20190131.0</td>\n",
       "      <td>A</td>\n",
       "      <td>00846U101</td>\n",
       "      <td>AGILENT TECHNOLOGIES INC</td>\n",
       "      <td>20190220.0</td>\n",
       "      <td>11.0</td>\n",
       "      <td>USA</td>\n",
       "      <td>-8.0</td>\n",
       "      <td>2019-02-28</td>\n",
       "      <td>2018-12-31</td>\n",
       "    </tr>\n",
       "    <tr>\n",
       "      <td>15504</td>\n",
       "      <td>631275</td>\n",
       "      <td>1</td>\n",
       "      <td>A</td>\n",
       "      <td>2002-05-16</td>\n",
       "      <td>Q2 2002</td>\n",
       "      <td>SANTA CLARA</td>\n",
       "      <td>Agilent Technologies Inc</td>\n",
       "      <td>20020516</td>\n",
       "      <td>2002-05-16</td>\n",
       "      <td>126554.0</td>\n",
       "      <td>20020430.0</td>\n",
       "      <td>A</td>\n",
       "      <td>00846U101</td>\n",
       "      <td>AGILENT TECHNOLOGIES INC</td>\n",
       "      <td>20020516.0</td>\n",
       "      <td>11.0</td>\n",
       "      <td>USA</td>\n",
       "      <td>0.0</td>\n",
       "      <td>2002-05-16</td>\n",
       "      <td>2002-03-31</td>\n",
       "    </tr>\n",
       "    <tr>\n",
       "      <td>15505</td>\n",
       "      <td>512907</td>\n",
       "      <td>1</td>\n",
       "      <td>A</td>\n",
       "      <td>2001-05-17</td>\n",
       "      <td>Q2 2001</td>\n",
       "      <td>SANTA CLARA</td>\n",
       "      <td>Agilent Technologies Inc</td>\n",
       "      <td>20010517</td>\n",
       "      <td>2001-05-17</td>\n",
       "      <td>126554.0</td>\n",
       "      <td>20010430.0</td>\n",
       "      <td>A</td>\n",
       "      <td>00846U101</td>\n",
       "      <td>AGILENT TECHNOLOGIES INC</td>\n",
       "      <td>20010517.0</td>\n",
       "      <td>11.0</td>\n",
       "      <td>USA</td>\n",
       "      <td>0.0</td>\n",
       "      <td>2001-05-17</td>\n",
       "      <td>2001-03-31</td>\n",
       "    </tr>\n",
       "  </tbody>\n",
       "</table>\n",
       "</div>"
      ],
      "text/plain": [
       "          xmlid  xmleventtypeid xmlticker xmleventdate xmlfakeqtr  \\\n",
       "15501   5357541               1         A   2014-05-14    Q2 2014   \n",
       "15502  12278874               1         A   2019-02-20    Q1 2019   \n",
       "15503  12282255               7         A   2019-02-28    Agilent   \n",
       "15504    631275               1         A   2002-05-16    Q2 2002   \n",
       "15505    512907               1         A   2001-05-17    Q2 2001   \n",
       "\n",
       "           xmlcity            xmlcompanyname    xmlymd xmlcalldate     gvkey  \\\n",
       "15501  SANTA CLARA  Agilent Technologies Inc  20140514  2014-05-14  126554.0   \n",
       "15502  SANTA CLARA  Agilent Technologies Inc  20190220  2019-02-20  126554.0   \n",
       "15503     New York  Agilent Technologies Inc  20190228  2019-02-28  126554.0   \n",
       "15504  SANTA CLARA  Agilent Technologies Inc  20020516  2002-05-16  126554.0   \n",
       "15505  SANTA CLARA  Agilent Technologies Inc  20010517  2001-05-17  126554.0   \n",
       "\n",
       "         datadate tic      cusip                      conm         rdq  exchg  \\\n",
       "15501  20140430.0   A  00846U101  AGILENT TECHNOLOGIES INC  20140514.0   11.0   \n",
       "15502  20190131.0   A  00846U101  AGILENT TECHNOLOGIES INC  20190220.0   11.0   \n",
       "15503  20190131.0   A  00846U101  AGILENT TECHNOLOGIES INC  20190220.0   11.0   \n",
       "15504  20020430.0   A  00846U101  AGILENT TECHNOLOGIES INC  20020516.0   11.0   \n",
       "15505  20010430.0   A  00846U101  AGILENT TECHNOLOGIES INC  20010517.0   11.0   \n",
       "\n",
       "       fic  no_of_days  eventdate         qtr  \n",
       "15501  USA         0.0 2014-05-14  2014-03-31  \n",
       "15502  USA         0.0 2019-02-20  2018-12-31  \n",
       "15503  USA        -8.0 2019-02-28  2018-12-31  \n",
       "15504  USA         0.0 2002-05-16  2002-03-31  \n",
       "15505  USA         0.0 2001-05-17  2001-03-31  "
      ]
     },
     "execution_count": 18,
     "metadata": {},
     "output_type": "execute_result"
    }
   ],
   "source": [
    "clean['qtr']=[myQtr(d) for d in clean['eventdate']]\n",
    "clean.head()"
   ]
  },
  {
   "cell_type": "code",
   "execution_count": 19,
   "metadata": {
    "scrolled": true
   },
   "outputs": [
    {
     "data": {
      "image/png": "[encoded data removed]",
      "text/plain": [
       "<Figure size 720x360 with 1 Axes>"
      ]
     },
     "metadata": {
      "needs_background": "light"
     },
     "output_type": "display_data"
    }
   ],
   "source": [
    "grp_qtr = clean.groupby('qtr').count()['rdq']\n",
    "plt.figure(figsize=(10,5))\n",
    "plt.title('No. of Obs. in Each Quarter')\n",
    "# plt.hlines(500,grp_qtr.index[0],grp_qtr.index[-1])\n",
    "grp_qtr.plot()\n",
    "plt.grid(color='grey', linestyle='-', linewidth=.5)"
   ]
  },
  {
   "cell_type": "code",
   "execution_count": 20,
   "metadata": {},
   "outputs": [],
   "source": [
    "num_allfirm = grp_qtr"
   ]
  },
  {
   "cell_type": "markdown",
   "metadata": {},
   "source": [
    "## the number of unique firm is:"
   ]
  },
  {
   "cell_type": "code",
   "execution_count": 21,
   "metadata": {},
   "outputs": [
    {
     "data": {
      "text/plain": [
       "3773"
      ]
     },
     "execution_count": 21,
     "metadata": {},
     "output_type": "execute_result"
    }
   ],
   "source": [
    "len(set(clean['xmlticker']))"
   ]
  },
  {
   "cell_type": "markdown",
   "metadata": {},
   "source": [
    "## first day and last day:"
   ]
  },
  {
   "cell_type": "code",
   "execution_count": 22,
   "metadata": {},
   "outputs": [
    {
     "data": {
      "text/plain": [
       "(20010110, 20190424)"
      ]
     },
     "execution_count": 22,
     "metadata": {},
     "output_type": "execute_result"
    }
   ],
   "source": [
    "(clean['xmlymd'].min(),clean['xmlymd'].max())"
   ]
  },
  {
   "cell_type": "markdown",
   "metadata": {},
   "source": [
    "## distribution across exchanges: \n",
    "\n",
    "11 NYSE, 12 AMEX, 14 NASDAQ, 19 OTC"
   ]
  },
  {
   "cell_type": "code",
   "execution_count": 23,
   "metadata": {},
   "outputs": [
    {
     "data": {
      "text/plain": [
       "exchg\n",
       "11.0    50.914115\n",
       "12.0     1.193742\n",
       "14.0    44.420107\n",
       "17.0     0.058589\n",
       "19.0     3.365513\n",
       "20.0     0.017976\n",
       "21.0     0.029960\n",
       "Name: xmlid, dtype: float64"
      ]
     },
     "execution_count": 23,
     "metadata": {},
     "output_type": "execute_result"
    }
   ],
   "source": [
    "grp_exchg = clean.groupby('exchg')\n",
    "grp_exchg.count()['xmlid']/sum(grp_exchg.count()['xmlid'])*100"
   ]
  },
  {
   "cell_type": "markdown",
   "metadata": {},
   "source": [
    "## distribution across Event Types\n",
    "\n",
    "**1 earnings call/pre**, 5 corporate call/pre, 7 Conference pre, 11 Shareholders Annual Meeting, 30 Guidance Call/Pre, 31 Corporate Analyst Meeting, 33 Sales/Trading Statement Call/Pre, 34 M&A Announcement"
   ]
  },
  {
   "cell_type": "code",
   "execution_count": 24,
   "metadata": {
    "scrolled": true
   },
   "outputs": [
    {
     "data": {
      "text/plain": [
       "xmleventtypeid\n",
       "1     93.799601\n",
       "2      0.007989\n",
       "5      0.541944\n",
       "7      4.470706\n",
       "8      0.055260\n",
       "11     0.383489\n",
       "21     0.001997\n",
       "22     0.000666\n",
       "24     0.001332\n",
       "30     0.009321\n",
       "31     0.392810\n",
       "33     0.113182\n",
       "34     0.221704\n",
       "Name: xmlid, dtype: float64"
      ]
     },
     "execution_count": 24,
     "metadata": {},
     "output_type": "execute_result"
    }
   ],
   "source": [
    "grp_type = clean.groupby('xmleventtypeid')\n",
    "grp_type.count()['xmlid']/sum(grp_type.count()['xmlid'])*100"
   ]
  },
  {
   "cell_type": "markdown",
   "metadata": {},
   "source": [
    "# rdq date gap"
   ]
  },
  {
   "cell_type": "code",
   "execution_count": 25,
   "metadata": {},
   "outputs": [],
   "source": [
    "gap = clean['no_of_days']"
   ]
  },
  {
   "cell_type": "code",
   "execution_count": 26,
   "metadata": {},
   "outputs": [
    {
     "data": {
      "text/plain": [
       "Text(0.5, 1.0, 'Date Gap: Rdq - Call(All Firm)')"
      ]
     },
     "execution_count": 26,
     "metadata": {},
     "output_type": "execute_result"
    },
    {
     "data": {
      "image/png": "[encoded data removed]",
      "text/plain": [
       "<Figure size 720x360 with 1 Axes>"
      ]
     },
     "metadata": {
      "needs_background": "light"
     },
     "output_type": "display_data"
    }
   ],
   "source": [
    "plt.figure(figsize=(10,5))\n",
    "gap.hist(bins=range(-10,5),density=True,)\n",
    "plt.title('Date Gap: Rdq - Call(All Firm)')"
   ]
  },
  {
   "cell_type": "markdown",
   "metadata": {},
   "source": [
    "# ts plot"
   ]
  },
  {
   "cell_type": "code",
   "execution_count": 27,
   "metadata": {},
   "outputs": [],
   "source": [
    "da['eventdate'] = pd.to_datetime(da['xmleventdate'])\n",
    "da['qtr']=[myQtr(d) for d in da['eventdate']]\n",
    "num_raw = da.groupby('qtr').count()['eventdate']"
   ]
  },
  {
   "cell_type": "code",
   "execution_count": 28,
   "metadata": {},
   "outputs": [
    {
     "data": {
      "image/png": "[encoded data removed]",
      "text/plain": [
       "<Figure size 720x360 with 1 Axes>"
      ]
     },
     "metadata": {
      "needs_background": "light"
     },
     "output_type": "display_data"
    }
   ],
   "source": [
    "plt.figure(figsize=(10,5))\n",
    "plt.plot(num_raw, label='raw', color='blue')\n",
    "plt.plot(num_allfirm, label='linked all firm', color='orange')\n",
    "plt.plot(num_sp500, label='linked sp500', color='green')\n",
    "plt.grid(color='grey', linestyle='-', linewidth=.5)\n",
    "plt.title('Quarterly No. of Obs.')\n",
    "plt.legend()\n",
    "plt.show()"
   ]
  },
  {
   "cell_type": "code",
   "execution_count": 29,
   "metadata": {},
   "outputs": [
    {
     "data": {
      "image/png": "[encoded data removed]",
      "text/plain": [
       "<Figure size 720x360 with 1 Axes>"
      ]
     },
     "metadata": {
      "needs_background": "light"
     },
     "output_type": "display_data"
    }
   ],
   "source": [
    "plt.figure(figsize=(10,5))\n",
    "plt.plot(num_allfirm, label='linked all firm', color='orange')\n",
    "plt.plot(num_sp500, label='linked sp500', color='green')\n",
    "plt.grid(color='grey', linestyle='-', linewidth=.5)\n",
    "plt.title('Quarterly No. of Obs.')\n",
    "plt.legend()\n",
    "plt.show()"
   ]
  },
  {
   "cell_type": "code",
   "execution_count": 30,
   "metadata": {},
   "outputs": [
    {
     "data": {
      "text/plain": [
       "11155"
      ]
     },
     "execution_count": 30,
     "metadata": {},
     "output_type": "execute_result"
    }
   ],
   "source": [
    "len(set(da['xmlticker']))"
   ]
  }
 ],
 "metadata": {
  "kernelspec": {
   "display_name": "Python 3",
   "language": "python",
   "name": "python3"
  },
  "language_info": {
   "codemirror_mode": {
    "name": "ipython",
    "version": 3
   },
   "file_extension": ".py",
   "mimetype": "text/x-python",
   "name": "python",
   "nbconvert_exporter": "python",
   "pygments_lexer": "ipython3",
   "version": "3.6.8"
  }
 },
 "nbformat": 4,
 "nbformat_minor": 2
}
