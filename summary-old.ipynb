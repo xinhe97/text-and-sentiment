{
 "cells": [
  {
   "cell_type": "code",
   "execution_count": 1,
   "metadata": {},
   "outputs": [],
   "source": [
    "import pandas as pd\n",
    "import numpy as np\n",
    "import os\n",
    "import matplotlib.pyplot as plt"
   ]
  },
  {
   "cell_type": "code",
   "execution_count": 3,
   "metadata": {},
   "outputs": [],
   "source": [
    "da = pd.read_csv('m1.csv')"
   ]
  },
  {
   "cell_type": "code",
   "execution_count": 4,
   "metadata": {},
   "outputs": [
    {
     "data": {
      "text/plain": [
       "(9226, 18)"
      ]
     },
     "execution_count": 4,
     "metadata": {},
     "output_type": "execute_result"
    }
   ],
   "source": [
    "da.shape"
   ]
  },
  {
   "cell_type": "code",
   "execution_count": 5,
   "metadata": {},
   "outputs": [
    {
     "data": {
      "text/html": [
       "<div>\n",
       "<style scoped>\n",
       "    .dataframe tbody tr th:only-of-type {\n",
       "        vertical-align: middle;\n",
       "    }\n",
       "\n",
       "    .dataframe tbody tr th {\n",
       "        vertical-align: top;\n",
       "    }\n",
       "\n",
       "    .dataframe thead th {\n",
       "        text-align: right;\n",
       "    }\n",
       "</style>\n",
       "<table border=\"1\" class=\"dataframe\">\n",
       "  <thead>\n",
       "    <tr style=\"text-align: right;\">\n",
       "      <th></th>\n",
       "      <th>xmlid</th>\n",
       "      <th>xmleventtypeid</th>\n",
       "      <th>xmlticker</th>\n",
       "      <th>xmleventdate</th>\n",
       "      <th>xmlfakeqtr</th>\n",
       "      <th>xmlcity</th>\n",
       "      <th>xmlcompanyname</th>\n",
       "      <th>xmlymd</th>\n",
       "      <th>xmlcalldate</th>\n",
       "      <th>gvkey</th>\n",
       "      <th>datadate</th>\n",
       "      <th>tic</th>\n",
       "      <th>cusip</th>\n",
       "      <th>conm</th>\n",
       "      <th>rdq</th>\n",
       "      <th>exchg</th>\n",
       "      <th>fic</th>\n",
       "      <th>no_of_days</th>\n",
       "    </tr>\n",
       "  </thead>\n",
       "  <tbody>\n",
       "    <tr>\n",
       "      <td>0</td>\n",
       "      <td>12456222</td>\n",
       "      <td>1</td>\n",
       "      <td>**LEVI</td>\n",
       "      <td>9-Apr-19</td>\n",
       "      <td>Q1 2019</td>\n",
       "      <td>San Francisco</td>\n",
       "      <td>Levi Strauss &amp; Co</td>\n",
       "      <td>20190409</td>\n",
       "      <td>9-Apr-19</td>\n",
       "      <td>NaN</td>\n",
       "      <td>NaN</td>\n",
       "      <td>NaN</td>\n",
       "      <td>NaN</td>\n",
       "      <td>NaN</td>\n",
       "      <td>NaN</td>\n",
       "      <td>NaN</td>\n",
       "      <td>NaN</td>\n",
       "      <td>NaN</td>\n",
       "    </tr>\n",
       "    <tr>\n",
       "      <td>1</td>\n",
       "      <td>12289014</td>\n",
       "      <td>1</td>\n",
       "      <td>**LEVI</td>\n",
       "      <td>5-Feb-19</td>\n",
       "      <td>Q4 2018</td>\n",
       "      <td>San Francisco</td>\n",
       "      <td>Levi Strauss &amp; Co</td>\n",
       "      <td>20190205</td>\n",
       "      <td>5-Feb-19</td>\n",
       "      <td>NaN</td>\n",
       "      <td>NaN</td>\n",
       "      <td>NaN</td>\n",
       "      <td>NaN</td>\n",
       "      <td>NaN</td>\n",
       "      <td>NaN</td>\n",
       "      <td>NaN</td>\n",
       "      <td>NaN</td>\n",
       "      <td>NaN</td>\n",
       "    </tr>\n",
       "    <tr>\n",
       "      <td>2</td>\n",
       "      <td>12295223</td>\n",
       "      <td>1</td>\n",
       "      <td>**MTGA</td>\n",
       "      <td>7-Feb-19</td>\n",
       "      <td>Q1 2019</td>\n",
       "      <td>Uncasville</td>\n",
       "      <td>Mohegan Gaming &amp; Entertain</td>\n",
       "      <td>20190207</td>\n",
       "      <td>7-Feb-19</td>\n",
       "      <td>NaN</td>\n",
       "      <td>NaN</td>\n",
       "      <td>NaN</td>\n",
       "      <td>NaN</td>\n",
       "      <td>NaN</td>\n",
       "      <td>NaN</td>\n",
       "      <td>NaN</td>\n",
       "      <td>NaN</td>\n",
       "      <td>NaN</td>\n",
       "    </tr>\n",
       "    <tr>\n",
       "      <td>3</td>\n",
       "      <td>12405140</td>\n",
       "      <td>1</td>\n",
       "      <td>**NEIMAN</td>\n",
       "      <td>12-Mar-19</td>\n",
       "      <td>Q2 2019</td>\n",
       "      <td>DALLAS</td>\n",
       "      <td>Neiman Marcus Group Ltd LL</td>\n",
       "      <td>20190312</td>\n",
       "      <td>12-Mar-19</td>\n",
       "      <td>NaN</td>\n",
       "      <td>NaN</td>\n",
       "      <td>NaN</td>\n",
       "      <td>NaN</td>\n",
       "      <td>NaN</td>\n",
       "      <td>NaN</td>\n",
       "      <td>NaN</td>\n",
       "      <td>NaN</td>\n",
       "      <td>NaN</td>\n",
       "    </tr>\n",
       "    <tr>\n",
       "      <td>4</td>\n",
       "      <td>12282047</td>\n",
       "      <td>1</td>\n",
       "      <td>**RURAL</td>\n",
       "      <td>25-Jan-19</td>\n",
       "      <td>Q2 2019</td>\n",
       "      <td>NAN</td>\n",
       "      <td>National Rural Utilities C</td>\n",
       "      <td>20190125</td>\n",
       "      <td>25-Jan-19</td>\n",
       "      <td>NaN</td>\n",
       "      <td>NaN</td>\n",
       "      <td>NaN</td>\n",
       "      <td>NaN</td>\n",
       "      <td>NaN</td>\n",
       "      <td>NaN</td>\n",
       "      <td>NaN</td>\n",
       "      <td>NaN</td>\n",
       "      <td>NaN</td>\n",
       "    </tr>\n",
       "  </tbody>\n",
       "</table>\n",
       "</div>"
      ],
      "text/plain": [
       "      xmlid  xmleventtypeid xmlticker xmleventdate xmlfakeqtr        xmlcity  \\\n",
       "0  12456222               1    **LEVI     9-Apr-19    Q1 2019  San Francisco   \n",
       "1  12289014               1    **LEVI     5-Feb-19    Q4 2018  San Francisco   \n",
       "2  12295223               1    **MTGA     7-Feb-19    Q1 2019     Uncasville   \n",
       "3  12405140               1  **NEIMAN    12-Mar-19    Q2 2019         DALLAS   \n",
       "4  12282047               1   **RURAL    25-Jan-19    Q2 2019            NAN   \n",
       "\n",
       "               xmlcompanyname    xmlymd xmlcalldate  gvkey  datadate  tic  \\\n",
       "0           Levi Strauss & Co  20190409    9-Apr-19    NaN       NaN  NaN   \n",
       "1           Levi Strauss & Co  20190205    5-Feb-19    NaN       NaN  NaN   \n",
       "2  Mohegan Gaming & Entertain  20190207    7-Feb-19    NaN       NaN  NaN   \n",
       "3  Neiman Marcus Group Ltd LL  20190312   12-Mar-19    NaN       NaN  NaN   \n",
       "4  National Rural Utilities C  20190125   25-Jan-19    NaN       NaN  NaN   \n",
       "\n",
       "  cusip conm  rdq  exchg  fic  no_of_days  \n",
       "0   NaN  NaN  NaN    NaN  NaN         NaN  \n",
       "1   NaN  NaN  NaN    NaN  NaN         NaN  \n",
       "2   NaN  NaN  NaN    NaN  NaN         NaN  \n",
       "3   NaN  NaN  NaN    NaN  NaN         NaN  \n",
       "4   NaN  NaN  NaN    NaN  NaN         NaN  "
      ]
     },
     "execution_count": 5,
     "metadata": {},
     "output_type": "execute_result"
    }
   ],
   "source": [
    "da.head()"
   ]
  },
  {
   "cell_type": "code",
   "execution_count": 6,
   "metadata": {},
   "outputs": [],
   "source": [
    "clean = da.dropna()"
   ]
  },
  {
   "cell_type": "code",
   "execution_count": 9,
   "metadata": {},
   "outputs": [
    {
     "data": {
      "text/plain": [
       "(4055, 18)"
      ]
     },
     "execution_count": 9,
     "metadata": {},
     "output_type": "execute_result"
    }
   ],
   "source": [
    "clean.shape"
   ]
  },
  {
   "cell_type": "code",
   "execution_count": 10,
   "metadata": {},
   "outputs": [
    {
     "data": {
      "text/plain": [
       "[numpy.int64,\n",
       " numpy.int64,\n",
       " str,\n",
       " str,\n",
       " str,\n",
       " str,\n",
       " str,\n",
       " numpy.int64,\n",
       " str,\n",
       " numpy.float64,\n",
       " numpy.float64,\n",
       " float,\n",
       " float,\n",
       " float,\n",
       " numpy.float64,\n",
       " numpy.float64,\n",
       " float,\n",
       " numpy.float64]"
      ]
     },
     "execution_count": 10,
     "metadata": {},
     "output_type": "execute_result"
    }
   ],
   "source": [
    "[type(da[i][0]) for i in da.columns]"
   ]
  },
  {
   "cell_type": "code",
   "execution_count": 10,
   "metadata": {},
   "outputs": [
    {
     "data": {
      "text/html": [
       "<div>\n",
       "<style scoped>\n",
       "    .dataframe tbody tr th:only-of-type {\n",
       "        vertical-align: middle;\n",
       "    }\n",
       "\n",
       "    .dataframe tbody tr th {\n",
       "        vertical-align: top;\n",
       "    }\n",
       "\n",
       "    .dataframe thead th {\n",
       "        text-align: right;\n",
       "    }\n",
       "</style>\n",
       "<table border=\"1\" class=\"dataframe\">\n",
       "  <thead>\n",
       "    <tr style=\"text-align: right;\">\n",
       "      <th></th>\n",
       "      <th>xmlid</th>\n",
       "      <th>xmleventtypeid</th>\n",
       "      <th>xmlticker</th>\n",
       "      <th>xmleventdate</th>\n",
       "      <th>xmlfakeqtr</th>\n",
       "      <th>xmlcity</th>\n",
       "      <th>xmlcompanyname</th>\n",
       "      <th>xmlymd</th>\n",
       "      <th>xmlcalldate</th>\n",
       "      <th>gvkey</th>\n",
       "      <th>datadate</th>\n",
       "      <th>tic</th>\n",
       "      <th>cusip</th>\n",
       "      <th>conm</th>\n",
       "      <th>rdq</th>\n",
       "      <th>exchg</th>\n",
       "      <th>fic</th>\n",
       "      <th>no_of_days</th>\n",
       "    </tr>\n",
       "  </thead>\n",
       "  <tbody>\n",
       "    <tr>\n",
       "      <td>317</td>\n",
       "      <td>12278874</td>\n",
       "      <td>1</td>\n",
       "      <td>A</td>\n",
       "      <td>20-Feb-19</td>\n",
       "      <td>Q1 2019</td>\n",
       "      <td>SANTA CLARA</td>\n",
       "      <td>Agilent Technologies Inc</td>\n",
       "      <td>20190220</td>\n",
       "      <td>20-Feb-19</td>\n",
       "      <td>126554.0</td>\n",
       "      <td>20190131.0</td>\n",
       "      <td>A</td>\n",
       "      <td>00846U101</td>\n",
       "      <td>AGILENT TECHNOLOGIES INC</td>\n",
       "      <td>20190220.0</td>\n",
       "      <td>11.0</td>\n",
       "      <td>USA</td>\n",
       "      <td>0.0</td>\n",
       "    </tr>\n",
       "    <tr>\n",
       "      <td>318</td>\n",
       "      <td>12282255</td>\n",
       "      <td>7</td>\n",
       "      <td>A</td>\n",
       "      <td>28-Feb-19</td>\n",
       "      <td>Agilent</td>\n",
       "      <td>New York</td>\n",
       "      <td>Agilent Technologies Inc</td>\n",
       "      <td>20190228</td>\n",
       "      <td>28-Feb-19</td>\n",
       "      <td>126554.0</td>\n",
       "      <td>20190131.0</td>\n",
       "      <td>A</td>\n",
       "      <td>00846U101</td>\n",
       "      <td>AGILENT TECHNOLOGIES INC</td>\n",
       "      <td>20190220.0</td>\n",
       "      <td>11.0</td>\n",
       "      <td>USA</td>\n",
       "      <td>-8.0</td>\n",
       "    </tr>\n",
       "    <tr>\n",
       "      <td>319</td>\n",
       "      <td>12301332</td>\n",
       "      <td>11</td>\n",
       "      <td>A</td>\n",
       "      <td>20-Mar-19</td>\n",
       "      <td>Agilent</td>\n",
       "      <td>SANTA CLARA</td>\n",
       "      <td>Agilent Technologies Inc</td>\n",
       "      <td>20190320</td>\n",
       "      <td>20-Mar-19</td>\n",
       "      <td>126554.0</td>\n",
       "      <td>20190131.0</td>\n",
       "      <td>A</td>\n",
       "      <td>00846U101</td>\n",
       "      <td>AGILENT TECHNOLOGIES INC</td>\n",
       "      <td>20190220.0</td>\n",
       "      <td>11.0</td>\n",
       "      <td>USA</td>\n",
       "      <td>-28.0</td>\n",
       "    </tr>\n",
       "    <tr>\n",
       "      <td>329</td>\n",
       "      <td>12367871</td>\n",
       "      <td>1</td>\n",
       "      <td>AAC</td>\n",
       "      <td>16-Apr-19</td>\n",
       "      <td>Q4 2018</td>\n",
       "      <td>Brentwood</td>\n",
       "      <td>AAC Holdings Inc</td>\n",
       "      <td>20190416</td>\n",
       "      <td>16-Apr-19</td>\n",
       "      <td>178698.0</td>\n",
       "      <td>20181231.0</td>\n",
       "      <td>AAC</td>\n",
       "      <td>307108</td>\n",
       "      <td>AAC HOLDINGS INC</td>\n",
       "      <td>20190415.0</td>\n",
       "      <td>11.0</td>\n",
       "      <td>USA</td>\n",
       "      <td>-1.0</td>\n",
       "    </tr>\n",
       "    <tr>\n",
       "      <td>333</td>\n",
       "      <td>12264813</td>\n",
       "      <td>1</td>\n",
       "      <td>AAL</td>\n",
       "      <td>24-Jan-19</td>\n",
       "      <td>Q4 2018</td>\n",
       "      <td>FORT WORTH</td>\n",
       "      <td>American Airlines Group In</td>\n",
       "      <td>20190124</td>\n",
       "      <td>24-Jan-19</td>\n",
       "      <td>1045.0</td>\n",
       "      <td>20181231.0</td>\n",
       "      <td>AAL</td>\n",
       "      <td>02376R102</td>\n",
       "      <td>AMERICAN AIRLINES GROUP INC</td>\n",
       "      <td>20190124.0</td>\n",
       "      <td>14.0</td>\n",
       "      <td>USA</td>\n",
       "      <td>0.0</td>\n",
       "    </tr>\n",
       "  </tbody>\n",
       "</table>\n",
       "</div>"
      ],
      "text/plain": [
       "        xmlid  xmleventtypeid xmlticker xmleventdate xmlfakeqtr      xmlcity  \\\n",
       "317  12278874               1         A    20-Feb-19    Q1 2019  SANTA CLARA   \n",
       "318  12282255               7         A    28-Feb-19    Agilent     New York   \n",
       "319  12301332              11         A    20-Mar-19    Agilent  SANTA CLARA   \n",
       "329  12367871               1       AAC    16-Apr-19    Q4 2018    Brentwood   \n",
       "333  12264813               1       AAL    24-Jan-19    Q4 2018   FORT WORTH   \n",
       "\n",
       "                 xmlcompanyname    xmlymd xmlcalldate     gvkey    datadate  \\\n",
       "317    Agilent Technologies Inc  20190220   20-Feb-19  126554.0  20190131.0   \n",
       "318    Agilent Technologies Inc  20190228   28-Feb-19  126554.0  20190131.0   \n",
       "319    Agilent Technologies Inc  20190320   20-Mar-19  126554.0  20190131.0   \n",
       "329            AAC Holdings Inc  20190416   16-Apr-19  178698.0  20181231.0   \n",
       "333  American Airlines Group In  20190124   24-Jan-19    1045.0  20181231.0   \n",
       "\n",
       "     tic      cusip                         conm         rdq  exchg  fic  \\\n",
       "317    A  00846U101     AGILENT TECHNOLOGIES INC  20190220.0   11.0  USA   \n",
       "318    A  00846U101     AGILENT TECHNOLOGIES INC  20190220.0   11.0  USA   \n",
       "319    A  00846U101     AGILENT TECHNOLOGIES INC  20190220.0   11.0  USA   \n",
       "329  AAC     307108             AAC HOLDINGS INC  20190415.0   11.0  USA   \n",
       "333  AAL  02376R102  AMERICAN AIRLINES GROUP INC  20190124.0   14.0  USA   \n",
       "\n",
       "     no_of_days  \n",
       "317         0.0  \n",
       "318        -8.0  \n",
       "319       -28.0  \n",
       "329        -1.0  \n",
       "333         0.0  "
      ]
     },
     "execution_count": 10,
     "metadata": {},
     "output_type": "execute_result"
    }
   ],
   "source": [
    "clean.head()"
   ]
  },
  {
   "cell_type": "markdown",
   "metadata": {},
   "source": [
    "- the number of U.S. firms covered"
   ]
  },
  {
   "cell_type": "code",
   "execution_count": 15,
   "metadata": {},
   "outputs": [
    {
     "data": {
      "text/plain": [
       "2790"
      ]
     },
     "execution_count": 15,
     "metadata": {},
     "output_type": "execute_result"
    }
   ],
   "source": [
    "len(set(clean['xmlticker']))"
   ]
  },
  {
   "cell_type": "markdown",
   "metadata": {},
   "source": [
    "- the number of U.S. firm earnings call events"
   ]
  },
  {
   "cell_type": "code",
   "execution_count": 16,
   "metadata": {},
   "outputs": [
    {
     "data": {
      "text/plain": [
       "4055"
      ]
     },
     "execution_count": 16,
     "metadata": {},
     "output_type": "execute_result"
    }
   ],
   "source": [
    "clean.shape[0]"
   ]
  },
  {
   "cell_type": "markdown",
   "metadata": {},
   "source": [
    "- the distrubution of dates"
   ]
  },
  {
   "cell_type": "code",
   "execution_count": 21,
   "metadata": {},
   "outputs": [
    {
     "data": {
      "text/plain": [
       "20190424"
      ]
     },
     "execution_count": 21,
     "metadata": {},
     "output_type": "execute_result"
    }
   ],
   "source": [
    "clean['xmlymd'].max()"
   ]
  },
  {
   "cell_type": "code",
   "execution_count": 22,
   "metadata": {},
   "outputs": [
    {
     "data": {
      "text/plain": [
       "20190103"
      ]
     },
     "execution_count": 22,
     "metadata": {},
     "output_type": "execute_result"
    }
   ],
   "source": [
    "clean['xmlymd'].min()"
   ]
  },
  {
   "cell_type": "code",
   "execution_count": 23,
   "metadata": {},
   "outputs": [
    {
     "data": {
      "text/plain": [
       "20190424.0"
      ]
     },
     "execution_count": 23,
     "metadata": {},
     "output_type": "execute_result"
    }
   ],
   "source": [
    "clean['rdq'].max()"
   ]
  },
  {
   "cell_type": "code",
   "execution_count": 24,
   "metadata": {},
   "outputs": [
    {
     "data": {
      "text/plain": [
       "20181204.0"
      ]
     },
     "execution_count": 24,
     "metadata": {},
     "output_type": "execute_result"
    }
   ],
   "source": [
    "clean['rdq'].min()"
   ]
  },
  {
   "cell_type": "markdown",
   "metadata": {},
   "source": [
    "- exchange: 11 NYSE, 12 AMEX, 14 NASDAQ, 19 OTC"
   ]
  },
  {
   "cell_type": "code",
   "execution_count": 30,
   "metadata": {},
   "outputs": [],
   "source": [
    "grp_exchg = clean.groupby('exchg')"
   ]
  },
  {
   "cell_type": "code",
   "execution_count": 31,
   "metadata": {},
   "outputs": [
    {
     "data": {
      "text/plain": [
       "exchg\n",
       "11.0    2028\n",
       "12.0      61\n",
       "14.0    1928\n",
       "19.0      31\n",
       "21.0       5\n",
       "22.0       2\n",
       "Name: xmlid, dtype: int64"
      ]
     },
     "execution_count": 31,
     "metadata": {},
     "output_type": "execute_result"
    }
   ],
   "source": [
    "grp_exchg.count()['xmlid']"
   ]
  },
  {
   "cell_type": "code",
   "execution_count": 36,
   "metadata": {},
   "outputs": [
    {
     "data": {
      "text/plain": [
       "exchg\n",
       "11.0    0.500123\n",
       "12.0    0.015043\n",
       "14.0    0.475462\n",
       "19.0    0.007645\n",
       "21.0    0.001233\n",
       "22.0    0.000493\n",
       "Name: xmlid, dtype: float64"
      ]
     },
     "execution_count": 36,
     "metadata": {},
     "output_type": "execute_result"
    }
   ],
   "source": [
    "grp_exchg.count()['xmlid']/sum(grp_exchg.count()['xmlid'])"
   ]
  },
  {
   "cell_type": "code",
   "execution_count": 37,
   "metadata": {},
   "outputs": [
    {
     "data": {
      "text/plain": [
       "0.9906280000000001"
      ]
     },
     "execution_count": 37,
     "metadata": {},
     "output_type": "execute_result"
    }
   ],
   "source": [
    "0.500123+0.015043+0.475462"
   ]
  },
  {
   "cell_type": "markdown",
   "metadata": {},
   "source": [
    "- event type: 1 earnings call/pre, 5 corporate call/pre, 7 Conference pre, 11 Shareholders Annual Meeting, 30 Guidance Call/Pre, 31 Corporate Analyst Meeting, 33 Sales/Trading Statement Call/Pre, 34 M&A Announcement"
   ]
  },
  {
   "cell_type": "code",
   "execution_count": 14,
   "metadata": {},
   "outputs": [
    {
     "data": {
      "text/plain": [
       "xmleventtypeid\n",
       "1     0.770407\n",
       "5     0.010604\n",
       "7     0.181011\n",
       "11    0.010851\n",
       "30    0.000740\n",
       "31    0.018742\n",
       "33    0.001233\n",
       "34    0.006412\n",
       "Name: xmlid, dtype: float64"
      ]
     },
     "execution_count": 14,
     "metadata": {},
     "output_type": "execute_result"
    }
   ],
   "source": [
    "type_exchg = clean.groupby('xmleventtypeid')We \n",
    "type_exchg.count()['xmlid']/sum(type_exchg.count()['xmlid'])"
   ]
  },
  {
   "cell_type": "code",
   "execution_count": 40,
   "metadata": {},
   "outputs": [
    {
     "data": {
      "text/plain": [
       "xmleventtypeid\n",
       "1     0.770407\n",
       "5     0.010604\n",
       "7     0.181011\n",
       "11    0.010851\n",
       "30    0.000740\n",
       "31    0.018742\n",
       "33    0.001233\n",
       "34    0.006412\n",
       "Name: xmlid, dtype: float64"
      ]
     },
     "execution_count": 40,
     "metadata": {},
     "output_type": "execute_result"
    }
   ],
   "source": [
    "a"
   ]
  },
  {
   "cell_type": "code",
   "execution_count": 44,
   "metadata": {},
   "outputs": [
    {
     "data": {
      "text/plain": [
       "0.9701602959309494"
      ]
     },
     "execution_count": 44,
     "metadata": {},
     "output_type": "execute_result"
    }
   ],
   "source": [
    "sum(a[[1,7,31]])"
   ]
  },
  {
   "cell_type": "code",
   "execution_count": null,
   "metadata": {},
   "outputs": [],
   "source": []
  }
 ],
 "metadata": {
  "kernelspec": {
   "display_name": "Python 3",
   "language": "python",
   "name": "python3"
  },
  "language_info": {
   "codemirror_mode": {
    "name": "ipython",
    "version": 3
   },
   "file_extension": ".py",
   "mimetype": "text/x-python",
   "name": "python",
   "nbconvert_exporter": "python",
   "pygments_lexer": "ipython3",
   "version": "3.6.8"
  }
 },
 "nbformat": 4,
 "nbformat_minor": 2
}
